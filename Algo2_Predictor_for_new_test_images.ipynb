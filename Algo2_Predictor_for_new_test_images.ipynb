{
 "cells": [
  {
   "cell_type": "code",
   "execution_count": 1,
   "metadata": {},
   "outputs": [
    {
     "name": "stderr",
     "output_type": "stream",
     "text": [
      "Using TensorFlow backend.\n"
     ]
    }
   ],
   "source": [
    "from keras.applications import VGG16"
   ]
  },
  {
   "cell_type": "code",
   "execution_count": 2,
   "metadata": {},
   "outputs": [],
   "source": [
    "from keras import models\n",
    "from keras import layers\n",
    "from keras import optimizers\n",
    "import os\n",
    "from keras.preprocessing.image import ImageDataGenerator\n",
    "from PIL import Image\n",
    "import numpy as np\n",
    "from keras.preprocessing import image\n",
    "import cv2\n",
    "from keras.models import load_model\n",
    "import glob\n",
    "import pandas as pd\n",
    "import os\n",
    "import matplotlib.pyplot as plt"
   ]
  },
  {
   "cell_type": "code",
   "execution_count": 3,
   "metadata": {},
   "outputs": [],
   "source": [
    "os.chdir(\"your path\")\n",
    "fileDir = os.path.dirname(os.path.realpath('__file__'))"
   ]
  },
  {
   "cell_type": "code",
   "execution_count": 4,
   "metadata": {},
   "outputs": [],
   "source": [
    "test_dir = os.path.join(fileDir,'dataset\\\\test')"
   ]
  },
  {
   "cell_type": "code",
   "execution_count": 5,
   "metadata": {},
   "outputs": [
    {
     "data": {
      "text/plain": [
       "'D:\\\\GLIM\\\\CAPSTONE\\\\Algo\\\\Algo2_0908\\\\dataset\\\\test'"
      ]
     },
     "execution_count": 5,
     "metadata": {},
     "output_type": "execute_result"
    }
   ],
   "source": [
    "test_dir"
   ]
  },
  {
   "cell_type": "code",
   "execution_count": 6,
   "metadata": {},
   "outputs": [],
   "source": [
    "categories_list = ['bed','chair','cupboard']\n"
   ]
  },
  {
   "cell_type": "code",
   "execution_count": 7,
   "metadata": {},
   "outputs": [
    {
     "data": {
      "text/plain": [
       "'bed'"
      ]
     },
     "execution_count": 7,
     "metadata": {},
     "output_type": "execute_result"
    }
   ],
   "source": [
    "categories_list[0]"
   ]
  },
  {
   "cell_type": "code",
   "execution_count": 8,
   "metadata": {},
   "outputs": [],
   "source": [
    "#my_model =load_model(os.path.join(fileDir,'vgg16-cnn-best_10Categries25Epochs.hdf5'))\n",
    "my_model =load_model(os.path.join(fileDir,'model_fc_1508_run15_cat3.h5'))"
   ]
  },
  {
   "cell_type": "code",
   "execution_count": 9,
   "metadata": {},
   "outputs": [],
   "source": [
    "df = pd.DataFrame(columns=['filename','image','act_cat_name','pred_cat_name','act_cat','pred_cat','modified_image'])"
   ]
  },
  {
   "cell_type": "code",
   "execution_count": 10,
   "metadata": {},
   "outputs": [
    {
     "name": "stdout",
     "output_type": "stream",
     "text": [
      "C:\\Users\\Vibha2023\\Anaconda3\\Algo\\test_images\\output\\good\n"
     ]
    }
   ],
   "source": [
    "image_size=224\n",
    "#image_path=os.path.join(test_dir,'modified\\\\')\n",
    "image_path=\"your path\\\\Anaconda3\\\\Algo\\\\test_images\\\\output\\\\good\"\n",
    "print(image_path)\n"
   ]
  },
  {
   "cell_type": "code",
   "execution_count": 11,
   "metadata": {},
   "outputs": [
    {
     "name": "stdout",
     "output_type": "stream",
     "text": [
      "bed 0 chair 1 N\n",
      "chair 1 chair 1 N\n",
      "cupboard 2 cupboard 2 N\n",
      "cupboard 2 cupboard 2 N\n",
      "cupboard 2 chair 1 N\n"
     ]
    }
   ],
   "source": [
    "for infile in glob.glob(image_path + \"/*.jpg\"):\n",
    "    l_images=[]\n",
    "    img = cv2.imread(infile)\n",
    "    img = cv2.resize(img,(image_size,image_size),3)\n",
    "    img = np.array(img)\n",
    "    img = img / 255.0\n",
    "    img = img.reshape(1,image_size,image_size,3)\n",
    "    filename_w_ext = os.path.basename(infile)\n",
    "    filename, file_extension = os.path.splitext(filename_w_ext)\n",
    "    act_cat_name = filename[:-1]\n",
    "    if act_cat_name =='bed':\n",
    "        act_cat = 0\n",
    "    elif act_cat_name =='chair':\n",
    "        act_cat=1\n",
    "    elif act_cat_name=='cupboard':\n",
    "        act_cat=2\n",
    "    \n",
    "    pred_cat = int(my_model.predict_classes(img))\n",
    "    pred_cat_name = categories_list[int(my_model.predict_classes(img))]\n",
    "    l_images.append(infile)\n",
    "    l_images.append(filename_w_ext)\n",
    "    l_images.append(act_cat_name)\n",
    "    l_images.append(pred_cat_name)\n",
    "    l_images.append(act_cat)\n",
    "    l_images.append(pred_cat)\n",
    "    if filename[-1:] =='M':\n",
    "        modified = 'Y'\n",
    "    else:\n",
    "        modified = 'N'\n",
    "    l_images.append(modified)\n",
    "    df = df.append(pd.Series(l_images, index=df.columns),ignore_index=True)\n",
    "    print(act_cat_name,act_cat,pred_cat_name,pred_cat, modified)\n",
    "   # print(infile, filename_w_ext, act_cat_name,pred_cat)"
   ]
  },
  {
   "cell_type": "code",
   "execution_count": 12,
   "metadata": {},
   "outputs": [
    {
     "data": {
      "text/html": [
       "<div>\n",
       "<style scoped>\n",
       "    .dataframe tbody tr th:only-of-type {\n",
       "        vertical-align: middle;\n",
       "    }\n",
       "\n",
       "    .dataframe tbody tr th {\n",
       "        vertical-align: top;\n",
       "    }\n",
       "\n",
       "    .dataframe thead th {\n",
       "        text-align: right;\n",
       "    }\n",
       "</style>\n",
       "<table border=\"1\" class=\"dataframe\">\n",
       "  <thead>\n",
       "    <tr style=\"text-align: right;\">\n",
       "      <th></th>\n",
       "      <th>filename</th>\n",
       "      <th>image</th>\n",
       "      <th>act_cat_name</th>\n",
       "      <th>pred_cat_name</th>\n",
       "      <th>act_cat</th>\n",
       "      <th>pred_cat</th>\n",
       "      <th>modified_image</th>\n",
       "    </tr>\n",
       "  </thead>\n",
       "  <tbody>\n",
       "    <tr>\n",
       "      <th>0</th>\n",
       "      <td>C:\\Users\\Vibha2023\\Anaconda3\\Algo\\test_images\\...</td>\n",
       "      <td>bed1.jpg</td>\n",
       "      <td>bed</td>\n",
       "      <td>chair</td>\n",
       "      <td>0</td>\n",
       "      <td>1</td>\n",
       "      <td>N</td>\n",
       "    </tr>\n",
       "    <tr>\n",
       "      <th>1</th>\n",
       "      <td>C:\\Users\\Vibha2023\\Anaconda3\\Algo\\test_images\\...</td>\n",
       "      <td>chair4.jpg</td>\n",
       "      <td>chair</td>\n",
       "      <td>chair</td>\n",
       "      <td>1</td>\n",
       "      <td>1</td>\n",
       "      <td>N</td>\n",
       "    </tr>\n",
       "    <tr>\n",
       "      <th>2</th>\n",
       "      <td>C:\\Users\\Vibha2023\\Anaconda3\\Algo\\test_images\\...</td>\n",
       "      <td>cupboard2.jpg</td>\n",
       "      <td>cupboard</td>\n",
       "      <td>cupboard</td>\n",
       "      <td>2</td>\n",
       "      <td>2</td>\n",
       "      <td>N</td>\n",
       "    </tr>\n",
       "    <tr>\n",
       "      <th>3</th>\n",
       "      <td>C:\\Users\\Vibha2023\\Anaconda3\\Algo\\test_images\\...</td>\n",
       "      <td>cupboard3.jpg</td>\n",
       "      <td>cupboard</td>\n",
       "      <td>cupboard</td>\n",
       "      <td>2</td>\n",
       "      <td>2</td>\n",
       "      <td>N</td>\n",
       "    </tr>\n",
       "    <tr>\n",
       "      <th>4</th>\n",
       "      <td>C:\\Users\\Vibha2023\\Anaconda3\\Algo\\test_images\\...</td>\n",
       "      <td>cupboard7.jpg</td>\n",
       "      <td>cupboard</td>\n",
       "      <td>chair</td>\n",
       "      <td>2</td>\n",
       "      <td>1</td>\n",
       "      <td>N</td>\n",
       "    </tr>\n",
       "  </tbody>\n",
       "</table>\n",
       "</div>"
      ],
      "text/plain": [
       "                                            filename          image  \\\n",
       "0  C:\\Users\\Vibha2023\\Anaconda3\\Algo\\test_images\\...       bed1.jpg   \n",
       "1  C:\\Users\\Vibha2023\\Anaconda3\\Algo\\test_images\\...     chair4.jpg   \n",
       "2  C:\\Users\\Vibha2023\\Anaconda3\\Algo\\test_images\\...  cupboard2.jpg   \n",
       "3  C:\\Users\\Vibha2023\\Anaconda3\\Algo\\test_images\\...  cupboard3.jpg   \n",
       "4  C:\\Users\\Vibha2023\\Anaconda3\\Algo\\test_images\\...  cupboard7.jpg   \n",
       "\n",
       "  act_cat_name pred_cat_name act_cat pred_cat modified_image  \n",
       "0          bed         chair       0        1              N  \n",
       "1        chair         chair       1        1              N  \n",
       "2     cupboard      cupboard       2        2              N  \n",
       "3     cupboard      cupboard       2        2              N  \n",
       "4     cupboard         chair       2        1              N  "
      ]
     },
     "execution_count": 12,
     "metadata": {},
     "output_type": "execute_result"
    }
   ],
   "source": [
    "df"
   ]
  },
  {
   "cell_type": "code",
   "execution_count": 13,
   "metadata": {},
   "outputs": [],
   "source": [
    "from sklearn.metrics import confusion_matrix\n",
    "\n",
    "y_actu = pd.Series(df['act_cat'], name='Actual')\n",
    "y_pred = pd.Series(df['pred_cat'], name='Predicted')"
   ]
  },
  {
   "cell_type": "code",
   "execution_count": 14,
   "metadata": {},
   "outputs": [],
   "source": [
    "df_confusion = pd.crosstab(y_actu, y_pred, rownames=['Actual'], colnames=['Predicted'], margins=True)"
   ]
  },
  {
   "cell_type": "code",
   "execution_count": 15,
   "metadata": {},
   "outputs": [],
   "source": [
    "def plot_confusion_matrix(df_confusion, title='Confusion matrix', cmap=plt.cm.Blues):\n",
    "    plt.matshow(df_confusion, cmap=cmap) # imshow\n",
    "    #plt.title(title)\n",
    "    plt.colorbar()\n",
    "    tick_marks = np.arange(len(df_confusion.columns))\n",
    "    plt.xticks(tick_marks, df_confusion.columns, rotation=45)\n",
    "    plt.yticks(tick_marks, df_confusion.index)\n",
    "    #plt.tight_layout()\n",
    "    plt.ylabel(df_confusion.index.name)\n",
    "    plt.xlabel(df_confusion.columns.name)"
   ]
  },
  {
   "cell_type": "code",
   "execution_count": 16,
   "metadata": {},
   "outputs": [
    {
     "data": {
      "image/png": "[encoded data removed]",
      "text/plain": [
       "<Figure size 288x384 with 2 Axes>"
      ]
     },
     "metadata": {},
     "output_type": "display_data"
    }
   ],
   "source": [
    "plot_confusion_matrix(df_confusion)"
   ]
  },
  {
   "cell_type": "code",
   "execution_count": 17,
   "metadata": {},
   "outputs": [
    {
     "data": {
      "text/html": [
       "<div>\n",
       "<style scoped>\n",
       "    .dataframe tbody tr th:only-of-type {\n",
       "        vertical-align: middle;\n",
       "    }\n",
       "\n",
       "    .dataframe tbody tr th {\n",
       "        vertical-align: top;\n",
       "    }\n",
       "\n",
       "    .dataframe thead th {\n",
       "        text-align: right;\n",
       "    }\n",
       "</style>\n",
       "<table border=\"1\" class=\"dataframe\">\n",
       "  <thead>\n",
       "    <tr style=\"text-align: right;\">\n",
       "      <th>Predicted</th>\n",
       "      <th>1</th>\n",
       "      <th>2</th>\n",
       "      <th>All</th>\n",
       "    </tr>\n",
       "    <tr>\n",
       "      <th>Actual</th>\n",
       "      <th></th>\n",
       "      <th></th>\n",
       "      <th></th>\n",
       "    </tr>\n",
       "  </thead>\n",
       "  <tbody>\n",
       "    <tr>\n",
       "      <th>0</th>\n",
       "      <td>1</td>\n",
       "      <td>0</td>\n",
       "      <td>1</td>\n",
       "    </tr>\n",
       "    <tr>\n",
       "      <th>1</th>\n",
       "      <td>1</td>\n",
       "      <td>0</td>\n",
       "      <td>1</td>\n",
       "    </tr>\n",
       "    <tr>\n",
       "      <th>2</th>\n",
       "      <td>1</td>\n",
       "      <td>2</td>\n",
       "      <td>3</td>\n",
       "    </tr>\n",
       "    <tr>\n",
       "      <th>All</th>\n",
       "      <td>3</td>\n",
       "      <td>2</td>\n",
       "      <td>5</td>\n",
       "    </tr>\n",
       "  </tbody>\n",
       "</table>\n",
       "</div>"
      ],
      "text/plain": [
       "Predicted  1  2  All\n",
       "Actual              \n",
       "0          1  0    1\n",
       "1          1  0    1\n",
       "2          1  2    3\n",
       "All        3  2    5"
      ]
     },
     "execution_count": 17,
     "metadata": {},
     "output_type": "execute_result"
    }
   ],
   "source": [
    "df_confusion"
   ]
  },
  {
   "cell_type": "code",
   "execution_count": 18,
   "metadata": {},
   "outputs": [
    {
     "data": {
      "text/html": [
       "<div>\n",
       "<style scoped>\n",
       "    .dataframe tbody tr th:only-of-type {\n",
       "        vertical-align: middle;\n",
       "    }\n",
       "\n",
       "    .dataframe tbody tr th {\n",
       "        vertical-align: top;\n",
       "    }\n",
       "\n",
       "    .dataframe thead th {\n",
       "        text-align: right;\n",
       "    }\n",
       "</style>\n",
       "<table border=\"1\" class=\"dataframe\">\n",
       "  <thead>\n",
       "    <tr style=\"text-align: right;\">\n",
       "      <th></th>\n",
       "      <th>filename</th>\n",
       "      <th>image</th>\n",
       "      <th>act_cat_name</th>\n",
       "      <th>pred_cat_name</th>\n",
       "      <th>act_cat</th>\n",
       "      <th>pred_cat</th>\n",
       "      <th>modified_image</th>\n",
       "    </tr>\n",
       "  </thead>\n",
       "  <tbody>\n",
       "    <tr>\n",
       "      <th>0</th>\n",
       "      <td>C:\\Users\\Vibha2023\\Anaconda3\\Algo\\test_images\\...</td>\n",
       "      <td>bed1.jpg</td>\n",
       "      <td>bed</td>\n",
       "      <td>chair</td>\n",
       "      <td>0</td>\n",
       "      <td>1</td>\n",
       "      <td>N</td>\n",
       "    </tr>\n",
       "    <tr>\n",
       "      <th>4</th>\n",
       "      <td>C:\\Users\\Vibha2023\\Anaconda3\\Algo\\test_images\\...</td>\n",
       "      <td>cupboard7.jpg</td>\n",
       "      <td>cupboard</td>\n",
       "      <td>chair</td>\n",
       "      <td>2</td>\n",
       "      <td>1</td>\n",
       "      <td>N</td>\n",
       "    </tr>\n",
       "  </tbody>\n",
       "</table>\n",
       "</div>"
      ],
      "text/plain": [
       "                                            filename          image  \\\n",
       "0  C:\\Users\\Vibha2023\\Anaconda3\\Algo\\test_images\\...       bed1.jpg   \n",
       "4  C:\\Users\\Vibha2023\\Anaconda3\\Algo\\test_images\\...  cupboard7.jpg   \n",
       "\n",
       "  act_cat_name pred_cat_name act_cat pred_cat modified_image  \n",
       "0          bed         chair       0        1              N  \n",
       "4     cupboard         chair       2        1              N  "
      ]
     },
     "execution_count": 18,
     "metadata": {},
     "output_type": "execute_result"
    }
   ],
   "source": [
    "df[(df.act_cat!=df.pred_cat) & (df.modified_image=='N')]"
   ]
  },
  {
   "cell_type": "code",
   "execution_count": 19,
   "metadata": {},
   "outputs": [
    {
     "data": {
      "text/html": [
       "<div>\n",
       "<style scoped>\n",
       "    .dataframe tbody tr th:only-of-type {\n",
       "        vertical-align: middle;\n",
       "    }\n",
       "\n",
       "    .dataframe tbody tr th {\n",
       "        vertical-align: top;\n",
       "    }\n",
       "\n",
       "    .dataframe thead th {\n",
       "        text-align: right;\n",
       "    }\n",
       "</style>\n",
       "<table border=\"1\" class=\"dataframe\">\n",
       "  <thead>\n",
       "    <tr style=\"text-align: right;\">\n",
       "      <th></th>\n",
       "      <th>filename</th>\n",
       "      <th>image</th>\n",
       "      <th>act_cat_name</th>\n",
       "      <th>pred_cat_name</th>\n",
       "      <th>act_cat</th>\n",
       "      <th>pred_cat</th>\n",
       "      <th>modified_image</th>\n",
       "    </tr>\n",
       "  </thead>\n",
       "  <tbody>\n",
       "  </tbody>\n",
       "</table>\n",
       "</div>"
      ],
      "text/plain": [
       "Empty DataFrame\n",
       "Columns: [filename, image, act_cat_name, pred_cat_name, act_cat, pred_cat, modified_image]\n",
       "Index: []"
      ]
     },
     "execution_count": 19,
     "metadata": {},
     "output_type": "execute_result"
    }
   ],
   "source": [
    "df[(df.act_cat!=df.pred_cat) & (df.modified_image=='Y')]"
   ]
  },
  {
   "cell_type": "code",
   "execution_count": 20,
   "metadata": {},
   "outputs": [
    {
     "data": {
      "text/plain": [
       "filename          0\n",
       "image             0\n",
       "act_cat_name      0\n",
       "pred_cat_name     0\n",
       "act_cat           0\n",
       "pred_cat          0\n",
       "modified_image    0\n",
       "dtype: int64"
      ]
     },
     "execution_count": 20,
     "metadata": {},
     "output_type": "execute_result"
    }
   ],
   "source": [
    "df[(df.act_cat!=df.pred_cat) & (df.modified_image=='Y')].count()"
   ]
  },
  {
   "cell_type": "code",
   "execution_count": 21,
   "metadata": {},
   "outputs": [],
   "source": [
    "# 6 images have been wrongly classified int he original test data set.\n",
    "# These 6 images will be fed to algo1 to check if it filters them as bad image"
   ]
  },
  {
   "cell_type": "code",
   "execution_count": 22,
   "metadata": {},
   "outputs": [
    {
     "data": {
      "text/plain": [
       "0    1\n",
       "1    1\n",
       "2    2\n",
       "3    2\n",
       "4    1\n",
       "Name: Predicted, dtype: object"
      ]
     },
     "execution_count": 22,
     "metadata": {},
     "output_type": "execute_result"
    }
   ],
   "source": [
    "y_pred"
   ]
  },
  {
   "cell_type": "code",
   "execution_count": 23,
   "metadata": {},
   "outputs": [],
   "source": [
    "df.to_csv('yourpath.csv')"
   ]
  },
  {
   "cell_type": "code",
   "execution_count": 24,
   "metadata": {
    "scrolled": true
   },
   "outputs": [
    {
     "name": "stdout",
     "output_type": "stream",
     "text": [
      "Confusion Matrix :\n",
      "[[0 1 0]\n",
      " [0 1 0]\n",
      " [0 1 2]]\n",
      "Accuracy Score : 0.6\n",
      "Report : \n",
      "             precision    recall  f1-score   support\n",
      "\n",
      "          0       0.00      0.00      0.00         1\n",
      "          1       0.33      1.00      0.50         1\n",
      "          2       1.00      0.67      0.80         3\n",
      "\n",
      "avg / total       0.67      0.60      0.58         5\n",
      "\n"
     ]
    },
    {
     "name": "stderr",
     "output_type": "stream",
     "text": [
      "C:\\Users\\Vibha2023\\Anaconda3\\envs\\tfp3.6\\lib\\site-packages\\sklearn\\metrics\\classification.py:1135: UndefinedMetricWarning: Precision and F-score are ill-defined and being set to 0.0 in labels with no predicted samples.\n",
      "  'precision', 'predicted', average, warn_for)\n"
     ]
    }
   ],
   "source": [
    "from sklearn.metrics import confusion_matrix\n",
    "from sklearn.metrics import accuracy_score\n",
    "from sklearn.metrics import classification_report\n",
    "actual = y_actu.astype(int)\n",
    "predicted = y_pred.astype(int)\n",
    "results = confusion_matrix(actual, predicted)\n",
    "print('Confusion Matrix :')\n",
    "print(results)\n",
    "print('Accuracy Score :',accuracy_score(actual, predicted))\n",
    "print('Report : ')\n",
    "print(classification_report(actual, predicted))"
   ]
  },
  {
   "cell_type": "code",
   "execution_count": 25,
   "metadata": {},
   "outputs": [],
   "source": [
    "from sklearn.metrics import cohen_kappa_score, make_scorer\n"
   ]
  },
  {
   "cell_type": "code",
   "execution_count": 26,
   "metadata": {},
   "outputs": [],
   "source": [
    "kappa = cohen_kappa_score(actual, predicted,labels=None)"
   ]
  },
  {
   "cell_type": "code",
   "execution_count": 27,
   "metadata": {},
   "outputs": [
    {
     "data": {
      "text/plain": [
       "0.375"
      ]
     },
     "execution_count": 27,
     "metadata": {},
     "output_type": "execute_result"
    }
   ],
   "source": [
    "kappa"
   ]
  },
  {
   "cell_type": "markdown",
   "metadata": {},
   "source": [
    "Here is one possible interpretation of Kappa.\n",
    "\n",
    "Poor agreement = Less than 0.20\n",
    "Fair agreement = 0.20 to 0.40\n",
    "Moderate agreement = 0.40 to 0.60\n",
    "Good agreement = 0.60 to 0.80\n",
    "Very good agreement = 0.80 to 1.00"
   ]
  },
  {
   "cell_type": "code",
   "execution_count": 28,
   "metadata": {},
   "outputs": [],
   "source": [
    "#Its a fair agreement"
   ]
  },
  {
   "cell_type": "code",
   "execution_count": null,
   "metadata": {},
   "outputs": [],
   "source": []
  }
 ],
 "metadata": {
  "kernelspec": {
   "display_name": "Python 3",
   "language": "python",
   "name": "python3"
  },
  "language_info": {
   "codemirror_mode": {
    "name": "ipython",
    "version": 3
   },
   "file_extension": ".py",
   "mimetype": "text/x-python",
   "name": "python",
   "nbconvert_exporter": "python",
   "pygments_lexer": "ipython3",
   "version": "3.5.5"
  }
 },
 "nbformat": 4,
 "nbformat_minor": 2
}
